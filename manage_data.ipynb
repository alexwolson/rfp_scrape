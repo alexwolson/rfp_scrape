{
 "cells": [
  {
   "cell_type": "code",
   "execution_count": 29,
   "outputs": [],
   "source": [
    "import pandas as pd\n",
    "from bs4 import BeautifulSoup\n",
    "from pathlib import Path\n",
    "from tqdm import tqdm"
   ],
   "metadata": {
    "collapsed": false
   }
  },
  {
   "cell_type": "code",
   "execution_count": 54,
   "outputs": [],
   "source": [
    "results = []"
   ],
   "metadata": {
    "collapsed": false
   }
  },
  {
   "cell_type": "code",
   "execution_count": 55,
   "outputs": [
    {
     "name": "stderr",
     "output_type": "stream",
     "text": [
      "\n",
      "  0%|          | 0/40 [00:00<?, ?it/s]\u001B[A\n",
      " 10%|█         | 4/40 [00:00<00:01, 31.93it/s]\u001B[A\n",
      " 20%|██        | 8/40 [00:00<00:00, 34.68it/s]\u001B[A\n",
      " 30%|███       | 12/40 [00:00<00:00, 33.16it/s]\u001B[A\n",
      " 40%|████      | 16/40 [00:00<00:00, 32.89it/s]\u001B[A\n",
      " 50%|█████     | 20/40 [00:00<00:00, 31.79it/s]\u001B[A\n",
      " 60%|██████    | 24/40 [00:00<00:00, 32.27it/s]\u001B[A\n",
      " 70%|███████   | 28/40 [00:00<00:00, 32.63it/s]\u001B[A\n",
      " 80%|████████  | 32/40 [00:00<00:00, 31.52it/s]\u001B[A\n",
      " 90%|█████████ | 36/40 [00:01<00:00, 31.53it/s]\u001B[A\n",
      "100%|██████████| 40/40 [00:01<00:00, 32.00it/s]\u001B[A\n"
     ]
    }
   ],
   "source": [
    "for folder in tqdm(Path('data').iterdir(), total=len([t for t in Path('data').iterdir()])):\n",
    "    if folder.is_dir():\n",
    "        for file in folder.iterdir():\n",
    "            if file.suffix == '.html':\n",
    "                dictionary = {'ID':file.parts[1]}\n",
    "                with open(file, 'r') as f:\n",
    "                    soup = BeautifulSoup(f, parser='html5lib')\n",
    "                content = soup.find_all('div',class_='postingHeaderContent')[0]\n",
    "                with open('temp.html','w') as f:\n",
    "                    f.write(str(content))\n",
    "                tables = pd.read_html('temp.html')\n",
    "                for k,v in dict(tables[0].values).items():\n",
    "                    if k==k:\n",
    "                        dictionary[k] = v\n",
    "                dictionary['Product Categories'] = tables[1].loc[0,0]\n",
    "                dictionary['summary'] = content.find_all('div',class_='postingHeaderNormalText postingHeaderPadding')[0].text\n",
    "                results.append(dictionary)"
   ],
   "metadata": {
    "collapsed": false
   }
  },
  {
   "cell_type": "code",
   "execution_count": 56,
   "outputs": [],
   "source": [
    "df = pd.DataFrame(results)"
   ],
   "metadata": {
    "collapsed": false
   }
  },
  {
   "cell_type": "code",
   "execution_count": 58,
   "outputs": [],
   "source": [
    "df.to_csv('data_summary.csv')"
   ],
   "metadata": {
    "collapsed": false
   }
  },
  {
   "cell_type": "code",
   "execution_count": null,
   "outputs": [],
   "source": [],
   "metadata": {
    "collapsed": false
   }
  }
 ],
 "metadata": {
  "kernelspec": {
   "display_name": "Python 3",
   "language": "python",
   "name": "python3"
  },
  "language_info": {
   "codemirror_mode": {
    "name": "ipython",
    "version": 2
   },
   "file_extension": ".py",
   "mimetype": "text/x-python",
   "name": "python",
   "nbconvert_exporter": "python",
   "pygments_lexer": "ipython2",
   "version": "2.7.6"
  }
 },
 "nbformat": 4,
 "nbformat_minor": 0
}
